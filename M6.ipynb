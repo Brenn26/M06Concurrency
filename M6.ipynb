{
 "cells": [
  {
   "cell_type": "code",
   "execution_count": 7,
   "id": "c47e3ff4-b884-48fb-8e87-9d70027428fa",
   "metadata": {},
   "outputs": [],
   "source": [
    "import datetime\n",
    "\n",
    "currentDate = datetime.datetime.now().strftime(\"%Y-%m-%d\")\n",
    "\n",
    "fileName = \"today.txt\"\n",
    "\n",
    "with open(fileName, \"w\") as file:\n",
    "    file.write(currentDate)\n"
   ]
  },
  {
   "cell_type": "code",
   "execution_count": 6,
   "id": "4326f970-6283-4f78-a549-80120bc53494",
   "metadata": {},
   "outputs": [
    {
     "name": "stdout",
     "output_type": "stream",
     "text": [
      "2024-07-14\n"
     ]
    }
   ],
   "source": [
    "fileName = \"today.txt\"\n",
    "\n",
    "with open(fileName, \"r\") as file:\n",
    "  todayString = file.read()\n",
    "print(f\"{todayString}\")\n"
   ]
  },
  {
   "cell_type": "code",
   "execution_count": 5,
   "id": "189ebcd7-61ff-4378-adab-7c763f1b63a7",
   "metadata": {},
   "outputs": [
    {
     "name": "stdout",
     "output_type": "stream",
     "text": [
      "2024-07-14\n",
      "2024-07-14 00:00:00\n"
     ]
    }
   ],
   "source": [
    "import datetime\n",
    "fileName = \"today.txt\"\n",
    "\n",
    "with open(fileName, \"r\") as file:\n",
    "  todayString = file.read()\n",
    "print(f\"{todayString}\")\n",
    "\n",
    "ParseDate = datetime.datetime.strptime(todayString, \"%Y-%m-%d\")\n",
    "\n",
    "print(ParseDate)"
   ]
  },
  {
   "cell_type": "code",
   "execution_count": 9,
   "id": "68875896-4096-49eb-afad-19a935108249",
   "metadata": {},
   "outputs": [
    {
     "name": "stdout",
     "output_type": "stream",
     "text": [
      "All processes have completed.\n"
     ]
    }
   ],
   "source": [
    "import multiprocessing\n",
    "import random\n",
    "import time\n",
    "import datetime\n",
    "\n",
    "def worker(pid):\n",
    "    # Generate a random wait time between 0 and 1\n",
    "    waitTime = random.uniform(0, 1)\n",
    "    time.sleep(waitTime)\n",
    "\n",
    "    # Get the systems current time\n",
    "    currentTime = datetime.datetime.now().strftime(\"%Y-%m-%d %H:%M:%S\")\n",
    "\n",
    "    print(f\"Process {pid}: Current time is {currentTime}\")\n",
    "\n",
    "if __name__ == \"__main__\":\n",
    "    numProc = 3\n",
    "\n",
    "    # create and start the 3 procs\n",
    "    procs = []\n",
    "    for i in range(numProc):\n",
    "        proc = multiprocessing.Process(target=worker, args=(i,))\n",
    "        procs.append(proc)\n",
    "        proc.start()\n",
    "\n",
    "    # wait to finish\n",
    "    for proc in procs:\n",
    "        proc.join()\n",
    "\n",
    "    print(\"All processes have completed.\")"
   ]
  }
 ],
 "metadata": {
  "kernelspec": {
   "display_name": "Python 3 (ipykernel)",
   "language": "python",
   "name": "python3"
  },
  "language_info": {
   "codemirror_mode": {
    "name": "ipython",
    "version": 3
   },
   "file_extension": ".py",
   "mimetype": "text/x-python",
   "name": "python",
   "nbconvert_exporter": "python",
   "pygments_lexer": "ipython3",
   "version": "3.11.7"
  }
 },
 "nbformat": 4,
 "nbformat_minor": 5
}
